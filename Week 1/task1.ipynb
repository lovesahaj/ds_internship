{
 "cells": [
  {
   "cell_type": "code",
   "execution_count": null,
   "outputs": [],
   "source": [
    "import pandas as pd\n",
    "import matplotlib.pyplot as plt\n",
    "import seaborn as sns"
   ],
   "metadata": {
    "collapsed": false,
    "pycharm": {
     "name": "#%%\n"
    }
   }
  },
  {
   "cell_type": "code",
   "execution_count": null,
   "outputs": [],
   "source": [
    "df = pd.read_csv(\"OnlineNewsPopularity.csv\")\n",
    "df.columns = df.columns.str.lstrip()\n",
    "pd.options.display.max_columns = None\n"
   ],
   "metadata": {
    "collapsed": false,
    "pycharm": {
     "name": "#%%\n"
    }
   }
  },
  {
   "cell_type": "code",
   "execution_count": null,
   "outputs": [],
   "source": [
    "days = {'monday' : 1, 'tuesday': 2, 'wednesday' : 3, 'thursday' : 4, 'friday' : 5, 'saturday': 6, 'sunday' : 7}\n"
   ],
   "metadata": {
    "collapsed": false,
    "pycharm": {
     "name": "#%%\n"
    }
   }
  },
  {
   "cell_type": "code",
   "execution_count": null,
   "outputs": [],
   "source": [
    "df.describe()"
   ],
   "metadata": {
    "collapsed": false,
    "pycharm": {
     "name": "#%%\n"
    }
   }
  },
  {
   "cell_type": "code",
   "execution_count": null,
   "outputs": [],
   "source": [
    "df['shares'].plot(kind = 'line', figsize = (10, 10))\n",
    "plt.plot()\n",
    "#as is clear from the plot there are some spikes in the data"
   ],
   "metadata": {
    "collapsed": false,
    "pycharm": {
     "name": "#%%\n"
    }
   }
  },
  {
   "cell_type": "code",
   "execution_count": null,
   "outputs": [],
   "source": [
    "def Remove_Outlier_Indices(news_popularity):\n",
    "    Q1 = news_popularity['shares'].quantile(0.25)\n",
    "    Q3 = news_popularity['shares'].quantile(0.75)\n",
    "    IQR = Q3 - Q1\n",
    "    trueList = ~((news_popularity['shares'] < (Q1 - 1.5 * IQR)) |(news_popularity['shares'] > (Q3 + 1.5 * IQR)))\n",
    "    return trueList\n",
    "\n",
    "index_news_outlier = Remove_Outlier_Indices(df)\n",
    "df = df[index_news_outlier]\n",
    "temp_df = df.copy() #copy of the original dataframe"
   ],
   "metadata": {
    "collapsed": false,
    "pycharm": {
     "name": "#%%\n"
    }
   }
  },
  {
   "cell_type": "code",
   "execution_count": null,
   "outputs": [],
   "source": [
    "#these histograms just represent the range of value vs frequency of their occurence\n",
    "df.hist(figsize = (30, 30))\n",
    "plt.plot()"
   ],
   "metadata": {
    "collapsed": false,
    "pycharm": {
     "name": "#%%\n"
    }
   }
  },
  {
   "cell_type": "code",
   "execution_count": null,
   "outputs": [],
   "source": [
    "sns.boxplot(x=df['shares'])\n",
    "plt.show()\n",
    "#there are still some outliers in the data, but since the the dataframe is large enough they aren't going to effect our results"
   ],
   "metadata": {
    "collapsed": false,
    "pycharm": {
     "name": "#%%\n"
    }
   }
  },
  {
   "cell_type": "code",
   "execution_count": null,
   "outputs": [],
   "source": [
    "sns.distplot(df['shares'], kde = False)\n",
    "plt.show()\n",
    "sns.distplot(df['shares'], hist = False)\n",
    "plt.show()\n",
    "sns.distplot(df['shares'])\n",
    "plt.show()\n",
    "#this function displays histogram of the values of share and its gussian kernel density extimation\n",
    "#HISTOGRAM is the range of values vs their frequency\n",
    "#KDE is the function that is used to smooth the curve of the histrogram\n",
    "#KDE give a much accurate estimation of the data\n",
    "#Most of the articles get shared 1000-2000 times then there is an exponetial decrease"
   ],
   "metadata": {
    "collapsed": false,
    "pycharm": {
     "name": "#%%\n"
    }
   }
  },
  {
   "cell_type": "code",
   "execution_count": null,
   "outputs": [],
   "source": [
    "day_wise_count = []\n",
    "day_of_week = list(map(lambda x : f\"weekday_is_{x}\", days))"
   ],
   "metadata": {
    "collapsed": false,
    "pycharm": {
     "name": "#%%\n"
    }
   }
  },
  {
   "cell_type": "code",
   "execution_count": null,
   "outputs": [],
   "source": [
    "for item in day_of_week:\n",
    "    day_wise_count.append(df[item].sum())"
   ],
   "metadata": {
    "collapsed": false,
    "pycharm": {
     "name": "#%%\n"
    }
   }
  },
  {
   "cell_type": "code",
   "execution_count": null,
   "outputs": [],
   "source": [
    "print(day_wise_count)"
   ],
   "metadata": {
    "collapsed": false,
    "pycharm": {
     "name": "#%%\n"
    }
   }
  },
  {
   "cell_type": "code",
   "execution_count": null,
   "outputs": [],
   "source": [
    "plt.figure(figsize=(25, 10))\n",
    "plt.grid(axis='y')\n",
    "plt.bar(day_of_week,day_wise_count)\n",
    "plt.xticks()\n",
    "\n",
    "plt.show()\n",
    "#weekday are the most active days"
   ],
   "metadata": {
    "collapsed": false,
    "pycharm": {
     "name": "#%%\n"
    }
   }
  },
  {
   "cell_type": "code",
   "execution_count": null,
   "outputs": [],
   "source": [
    "plt.figure(figsize=(25, 25))\n",
    "plt.scatter(df['n_tokens_content'], df['shares'])\n",
    "plt.show()\n",
    "#article with too long don't get much shares, articles with less than 2000 word in their titles gets most shares"
   ],
   "metadata": {
    "collapsed": false,
    "pycharm": {
     "name": "#%%\n"
    }
   }
  },
  {
   "cell_type": "code",
   "execution_count": null,
   "outputs": [],
   "source": [
    "plt.figure(figsize=(25,15))\n",
    "plt.scatter(df['num_imgs'], df['shares'])\n",
    "plt.show()"
   ],
   "metadata": {
    "collapsed": false,
    "pycharm": {
     "name": "#%%\n"
    }
   }
  },
  {
   "cell_type": "code",
   "execution_count": null,
   "outputs": [],
   "source": [
    "plt.figure(figsize=(25,15))\n",
    "plt.scatter(df['avg_positive_polarity'], df['shares'])\n",
    "plt.show()"
   ],
   "metadata": {
    "collapsed": false,
    "pycharm": {
     "name": "#%%\n"
    }
   }
  },
  {
   "cell_type": "code",
   "execution_count": null,
   "outputs": [],
   "source": [
    "data_channels = {'entertainment' : 1, 'bus' : 2, 'socmed' : 3, 'tech': 4, 'lifestyle': 5}\n",
    "data_channel_is = list(map(lambda x : f\"data_channel_is_{x}\", data_channels))"
   ],
   "metadata": {
    "collapsed": false,
    "pycharm": {
     "name": "#%%\n"
    }
   }
  },
  {
   "cell_type": "code",
   "execution_count": null,
   "outputs": [],
   "source": [
    "data_channels_count = list(df[item].sum() for item in data_channel_is)"
   ],
   "metadata": {
    "collapsed": false,
    "pycharm": {
     "name": "#%%\n"
    }
   }
  },
  {
   "cell_type": "code",
   "execution_count": null,
   "outputs": [],
   "source": [
    "colors = ['darkblue', 'red', 'purple', 'grey', 'black']\n",
    "explode = [0.1,0,0,0.1,0]\n",
    "plt.pie(data_channels_count, explode=explode, labels = data_channels, startangle=90, autopct='%1.2f%%', colors= colors)\n",
    "plt.show()"
   ],
   "metadata": {
    "collapsed": false,
    "pycharm": {
     "name": "#%%\n"
    }
   }
  },
  {
   "cell_type": "code",
   "execution_count": null,
   "outputs": [],
   "source": [
    "def func(x, day):\n",
    "    if x == 1:\n",
    "        return days[day]\n",
    "    else:\n",
    "        return 0\n",
    "\n",
    "for day in days:\n",
    "    df[f'weekday_is_{day}'] = df[f'weekday_is_{day}'].apply(lambda x : func(x, day))\n"
   ],
   "metadata": {
    "collapsed": false,
    "pycharm": {
     "name": "#%%\n"
    }
   }
  },
  {
   "cell_type": "code",
   "execution_count": null,
   "outputs": [],
   "source": [
    "df['weekdays'] = df['weekday_is_monday'] * 0\n",
    "\n",
    "for day in days:\n",
    "    df['weekdays'] += df[f'weekday_is_{day}']\n",
    "    temp_df.pop(f\"weekday_is_{day}\") "
   ],
   "metadata": {
    "collapsed": false,
    "pycharm": {
     "name": "#%%\n"
    }
   }
  },
  {
   "cell_type": "code",
   "execution_count": null,
   "outputs": [],
   "source": [
    "import numpy as np\n",
    "from matplotlib import cm\n",
    "\n",
    "colors = cm.Set1(np.arange(7)/7.)\n",
    "plt.pie(day_wise_count, labels=days, autopct='%1.2f%%', colors= colors)\n",
    "plt.show()"
   ],
   "metadata": {
    "collapsed": false,
    "pycharm": {
     "name": "#%%\n"
    }
   }
  },
  {
   "cell_type": "code",
   "execution_count": null,
   "outputs": [],
   "source": [
    "def func(x, channel):\n",
    "    if x == 1:\n",
    "        return data_channels[channel]\n",
    "    else:\n",
    "        return 0\n",
    "\n",
    "for data_channel in data_channels:\n",
    "    df[f'data_channel_is_{data_channel}'] = df[f'data_channel_is_{data_channel}'].apply(lambda x : func(x, data_channel))"
   ],
   "metadata": {
    "collapsed": false,
    "pycharm": {
     "name": "#%%\n"
    }
   }
  },
  {
   "cell_type": "code",
   "execution_count": null,
   "outputs": [],
   "source": [
    "df['data_channel'] = df['data_channel_is_tech'] * 0\n",
    "\n",
    "for channel in data_channels:\n",
    "    df['data_channel'] += df[f'data_channel_is_{channel}']\n",
    "    temp_df.pop(f'data_channel_is_{channel}')"
   ],
   "metadata": {
    "collapsed": false,
    "pycharm": {
     "name": "#%%\n"
    }
   }
  },
  {
   "cell_type": "code",
   "execution_count": null,
   "outputs": [],
   "source": [
    "temp_df['weekdays'] = df['weekdays']\n",
    "temp_df['data_channel'] = df['data_channel']\n",
    "\n",
    "#temp_df is just the original dataframe but in compressed format, just so machine learning models can work on it easily.\n",
    "\n",
    "dftrain = temp_df.iloc[:30000, :]\n",
    "dfeval = temp_df.iloc[30000: , :]\n",
    "y_train = dftrain.pop('shares')\n",
    "y_eval = dfeval.pop('shares')"
   ],
   "metadata": {
    "collapsed": false,
    "pycharm": {
     "name": "#%%\n"
    }
   }
  },
  {
   "cell_type": "code",
   "execution_count": null,
   "outputs": [],
   "source": [
    "temp_df.pop('url')"
   ],
   "metadata": {
    "collapsed": false,
    "pycharm": {
     "name": "#%%\n"
    }
   }
  },
  {
   "cell_type": "code",
   "execution_count": null,
   "outputs": [],
   "source": [
    "LDA = ['00', '01', '02', '03' ,'04']\n",
    "for element in LDA:\n",
    "    temp_df.pop(f'LDA_{element}')"
   ],
   "metadata": {
    "collapsed": false,
    "pycharm": {
     "name": "#%%\n"
    }
   }
  },
  {
   "cell_type": "code",
   "execution_count": null,
   "outputs": [],
   "source": [
    "import tensorflow.compat.v2.feature_column as fc\n",
    "import tensorflow as tf"
   ],
   "metadata": {
    "collapsed": false,
    "pycharm": {
     "name": "#%%\n"
    }
   }
  },
  {
   "cell_type": "code",
   "execution_count": null,
   "outputs": [],
   "source": [
    "numericColumn = list(dftrain.columns)\n",
    "feature_columns = []\n",
    "\n",
    "for feature_name in numericColumn:\n",
    "  feature_columns.append(tf.feature_column.numeric_column(feature_name, dtype=tf.float32))\n"
   ],
   "metadata": {
    "collapsed": false,
    "pycharm": {
     "name": "#%%\n"
    }
   }
  },
  {
   "cell_type": "code",
   "execution_count": null,
   "outputs": [],
   "source": [
    "def make_input_fn(data_df, label_df, num_epochs=10, shuffle=True, batch_size=32):\n",
    "  def input_function():\n",
    "    ds = tf.data.Dataset.from_tensor_slices((dict(data_df), label_df))\n",
    "    if shuffle:\n",
    "      ds = ds.shuffle(1000)\n",
    "    ds = ds.batch(batch_size).repeat(num_epochs)\n",
    "    return ds\n",
    "  return input_function\n",
    "\n",
    "train_input_fn = make_input_fn(dftrain, y_train)\n",
    "eval_input_fn = make_input_fn(dfeval, y_eval, num_epochs=1, shuffle=False)"
   ],
   "metadata": {
    "collapsed": false,
    "pycharm": {
     "name": "#%%\n"
    }
   }
  },
  {
   "cell_type": "code",
   "execution_count": null,
   "outputs": [],
   "source": [
    "ds = make_input_fn(dftrain, y_train, batch_size=10)()\n",
    "for feature_batch, label_batch in ds.take(1):\n",
    "  print('Some feature keys:', list(feature_batch.keys()))\n",
    "  print()\n",
    "  print('A batch of class:', feature_batch['n_tokens_title'].numpy())\n",
    "  print()\n",
    "  print('A batch of Labels:', label_batch.numpy())"
   ],
   "metadata": {
    "collapsed": false,
    "pycharm": {
     "name": "#%%\n"
    }
   }
  },
  {
   "cell_type": "code",
   "execution_count": null,
   "outputs": [],
   "source": [
    "linear_est = tf.estimator.LinearClassifier(feature_columns=feature_columns)\n",
    "linear_est.train(train_input_fn)\n",
    "result = linear_est.evaluate(eval_input_fn)\n",
    "\n",
    "clear_output()\n",
    "print(result)"
   ],
   "metadata": {
    "collapsed": false,
    "pycharm": {
     "name": "#%%\n"
    }
   }
  },
  {
   "cell_type": "code",
   "execution_count": null,
   "outputs": [],
   "source": [],
   "metadata": {
    "collapsed": false,
    "pycharm": {
     "name": "#%%\n"
    }
   }
  }
 ],
 "metadata": {
  "kernelspec": {
   "display_name": "Python 3",
   "language": "python",
   "name": "python3"
  },
  "language_info": {
   "codemirror_mode": {
    "name": "ipython",
    "version": 3
   },
   "file_extension": ".py",
   "mimetype": "text/x-python",
   "name": "python",
   "nbconvert_exporter": "python",
   "pygments_lexer": "ipython3",
   "version": "3.8.0"
  },
  "toc": {
   "base_numbering": 1,
   "nav_menu": {},
   "number_sections": true,
   "sideBar": true,
   "skip_h1_title": false,
   "title_cell": "Table of Contents",
   "title_sidebar": "Contents",
   "toc_cell": false,
   "toc_position": {},
   "toc_section_display": true,
   "toc_window_display": false
  },
  "varInspector": {
   "cols": {
    "lenName": 16,
    "lenType": 16,
    "lenVar": 40
   },
   "kernels_config": {
    "python": {
     "delete_cmd_postfix": "",
     "delete_cmd_prefix": "del ",
     "library": "var_list.py",
     "varRefreshCmd": "print(var_dic_list())"
    },
    "r": {
     "delete_cmd_postfix": ") ",
     "delete_cmd_prefix": "rm(",
     "library": "var_list.r",
     "varRefreshCmd": "cat(var_dic_list()) "
    }
   },
   "types_to_exclude": [
    "module",
    "function",
    "builtin_function_or_method",
    "instance",
    "_Feature"
   ],
   "window_display": false
  }
 },
 "nbformat": 4,
 "nbformat_minor": 2
}